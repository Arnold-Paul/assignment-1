{
 "cells": [
  {
   "cell_type": "code",
   "execution_count": null,
   "id": "d9dcad8b-dbed-4037-8545-9b4507660a26",
   "metadata": {},
   "outputs": [],
   "source": [
    "print('\"Hello, World!\"')\n"
   ]
  },
  {
   "cell_type": "code",
   "execution_count": 1,
   "id": "d43fc9f5-9752-457f-9dcf-abdd684b53a9",
   "metadata": {},
   "outputs": [
    {
     "name": "stdin",
     "output_type": "stream",
     "text": [
      "Enter first number:  2\n",
      "Enter second number:  2\n"
     ]
    },
    {
     "name": "stdout",
     "output_type": "stream",
     "text": [
      "The sum of 2.0 and 2.0 is 4.0\n"
     ]
    }
   ],
   "source": [
    "num1 = float(input(\"Enter first number: \"))\n",
    "num2 = float(input(\"Enter second number: \"))\n",
    "\n",
    "# Calculate the sum\n",
    "sum = num1 + num2\n",
    "\n",
    "# Print the sum in a formatted way\n",
    "print(f\"The sum of {num1} and {num2} is {sum}\")\n"
   ]
  },
  {
   "cell_type": "code",
   "execution_count": 2,
   "id": "7ff4852b-342c-48f6-9446-a16ad4eacc03",
   "metadata": {},
   "outputs": [
    {
     "name": "stdin",
     "output_type": "stream",
     "text": [
      "Enter a number:  34\n"
     ]
    },
    {
     "name": "stdout",
     "output_type": "stream",
     "text": [
      "34 is even\n"
     ]
    }
   ],
   "source": [
    "num = int(input(\"Enter a number: \"))\n",
    "\n",
    "# Check if the number is even using the modulo operator (%)\n",
    "if num % 2 == 0:\n",
    "  print(f\"{num} is even\")\n",
    "else:\n",
    "  print(f\"{num} is odd\")\n"
   ]
  },
  {
   "cell_type": "code",
   "execution_count": 4,
   "id": "d8cd0417-96b2-43c2-bbd1-2b009048685b",
   "metadata": {},
   "outputs": [
    {
     "name": "stdout",
     "output_type": "stream",
     "text": [
      "The factorial of 5 is 120\n"
     ]
    }
   ],
   "source": [
    "def factorial(n):\n",
    "  \n",
    "\n",
    "  if n < 0:\n",
    "    raise ValueError(\"n must be non-negative\")\n",
    "  elif n == 0:\n",
    "    return 1\n",
    "  else:\n",
    "    result = 1\n",
    "    for i in range(1, n + 1):\n",
    "      result *= i\n",
    "    return result\n",
    "\n",
    "# Calculate the factorial of 5\n",
    "number = 5\n",
    "fact = factorial(number)\n",
    "\n",
    "# Print the result\n",
    "print(f\"The factorial of {number} is {fact}\")\n",
    "\n"
   ]
  },
  {
   "cell_type": "code",
   "execution_count": 5,
   "id": "f1b357b7-e549-4d4e-a831-41ef2ab80582",
   "metadata": {},
   "outputs": [
    {
     "name": "stdout",
     "output_type": "stream",
     "text": [
      "Original text: Hello, world!\n",
      "Reversed text: !dlrow ,olleH\n"
     ]
    }
   ],
   "source": [
    "def reverse_string(text):\n",
    "\n",
    "  return text[::-1]\n",
    "\n",
    "# Example usage\n",
    "original_text = \"Hello, world!\"\n",
    "reversed_text = reverse_string(original_text)\n",
    "\n",
    "print(f\"Original text: {original_text}\")\n",
    "print(f\"Reversed text: {reversed_text}\")\n"
   ]
  },
  {
   "cell_type": "code",
   "execution_count": 7,
   "id": "d18afbdb-73d5-453e-85e7-a01ee2520e83",
   "metadata": {},
   "outputs": [
    {
     "name": "stdout",
     "output_type": "stream",
     "text": [
      "Race car is a palindrome\n"
     ]
    }
   ],
   "source": [
    "def is_palindrome(text):\n",
    "\n",
    "\n",
    "  text = text.lower().replace(\" \", \"\")  # Convert to lowercase and remove spaces\n",
    "  return text == text[::-1]\n",
    "\n",
    "# Example usage\n",
    "text = \"Race car\"\n",
    "is_palin = is_palindrome(text)\n",
    "\n",
    "if is_palin:\n",
    "  print(f\"{text} is a palindrome\")\n",
    "else:\n",
    "  print(f\"{text} is not a palindrome\")\n"
   ]
  },
  {
   "cell_type": "code",
   "execution_count": 28,
   "id": "bf144e5b-a34a-4803-8e33-5bc86cfefaa0",
   "metadata": {},
   "outputs": [
    {
     "name": "stdout",
     "output_type": "stream",
     "text": [
      "The first 10 Fibonacci numbers are: [0, 1, 1, 2, 3, 5, 8, 13, 21, 34]\n"
     ]
    }
   ],
   "source": [
    "def fibonacci(n):\n",
    "\n",
    "  if n <= 1:\n",
    "    return n\n",
    "\n",
    "  fibonacci_sequence = [0, 1]\n",
    "  for i in range(2, n):\n",
    "    next_term = fibonacci_sequence[i-1] + fibonacci_sequence[i-2]\n",
    "    fibonacci_sequence.append(next_term)\n",
    "  return fibonacci_sequence\n",
    "\n",
    "# Print the first 10 Fibonacci numbers\n",
    "fibonacci_numbers = fibonacci(10)\n",
    "print(f\"The first 10 Fibonacci numbers are: {fibonacci_numbers}\")\n"
   ]
  },
  {
   "cell_type": "code",
   "execution_count": 26,
   "id": "571513a5-f30f-466c-a567-3d023658ae05",
   "metadata": {},
   "outputs": [
    {
     "name": "stdout",
     "output_type": "stream",
     "text": [
      "11 is a prime number\n"
     ]
    }
   ],
   "source": [
    "def is_prime(num):\n",
    "\n",
    "\n",
    "  if num <= 1:\n",
    "    return False\n",
    "  elif num <= 3:\n",
    "    return True\n",
    "  elif num % 2 == 0 or num % 3 == 0:\n",
    "    return False\n",
    "\n",
    "  i = 5\n",
    "  while i * i <= num:\n",
    "    if num % i == 0 or num % (i + 2) == 0:\n",
    "      return False\n",
    "    i += 6\n",
    "\n",
    "  return True\n",
    "\n",
    "# Example usage\n",
    "number = 11\n",
    "is_prime_num = is_prime(number)\n",
    "\n",
    "if is_prime_num:\n",
    "  print(f\"{number} is a prime number\")\n",
    "else:\n",
    "  print(f\"{number} is not a prime number\")\n"
   ]
  },
  {
   "cell_type": "code",
   "execution_count": 10,
   "id": "b1f8016c-f4ad-41fe-9fe9-0ac0e068d536",
   "metadata": {},
   "outputs": [
    {
     "name": "stdout",
     "output_type": "stream",
     "text": [
      "The sum of digits in 12345 is: 15\n"
     ]
    }
   ],
   "source": [
    "def sum_of_digits(num):\n",
    " \n",
    "  if num < 0:\n",
    "    return None  # Handle negative number case\n",
    "\n",
    "  total_sum = 0\n",
    "  while num > 0:\n",
    "    digit = num % 10\n",
    "    total_sum += digit\n",
    "    num //= 10  # Integer division to remove last digit\n",
    "  return total_sum\n",
    "\n",
    "# Example usage\n",
    "number = 12345\n",
    "digit_sum = sum_of_digits(number)\n",
    "\n",
    "print(f\"The sum of digits in {number} is: {digit_sum}\")\n"
   ]
  },
  {
   "cell_type": "code",
   "execution_count": 11,
   "id": "9d8fa3db-0773-462a-9b0f-b28d9fde77cc",
   "metadata": {},
   "outputs": [
    {
     "name": "stdout",
     "output_type": "stream",
     "text": [
      "The largest element in the list is: 9\n"
     ]
    }
   ],
   "source": [
    "def largest_element(numbers):\n",
    "  \n",
    "\n",
    "  if not numbers:\n",
    "    return None  # Handle empty list case\n",
    "\n",
    "  largest = numbers[0]\n",
    "  for num in numbers:\n",
    "    if num > largest:\n",
    "      largest = num\n",
    "  return largest\n",
    "\n",
    "# Example usage\n",
    "numbers = [5, 8, 2, 9, 1]\n",
    "largest_num = largest_element(numbers)\n",
    "\n",
    "print(f\"The largest element in the list is: {largest_num}\")\n"
   ]
  },
  {
   "cell_type": "code",
   "execution_count": 12,
   "id": "aef1d8d4-3621-4034-bb77-f7a8189c2a50",
   "metadata": {},
   "outputs": [
    {
     "name": "stdout",
     "output_type": "stream",
     "text": [
      "The sorted list is: [1, 2, 3, 4, 5]\n"
     ]
    }
   ],
   "source": [
    "def sort_list(numbers):\n",
    "  \n",
    "\n",
    "  # Use built-in sorted function for efficiency\n",
    "  return sorted(numbers)\n",
    "\n",
    "# Example usage\n",
    "numbers = [3, 1, 4, 5, 2]\n",
    "sorted_numbers = sort_list(numbers)\n",
    "\n",
    "print(f\"The sorted list is: {sorted_numbers}\")\n"
   ]
  },
  {
   "cell_type": "code",
   "execution_count": 13,
   "id": "e946fc11-890e-4e5d-a7dc-141203790d97",
   "metadata": {},
   "outputs": [
    {
     "name": "stdout",
     "output_type": "stream",
     "text": [
      "The key 'age' exists in the dictionary\n"
     ]
    }
   ],
   "source": [
    "def search_dictionary(dictionary, key):\n",
    "  \n",
    "\n",
    "  return key in dictionary\n",
    "\n",
    "# Example usage\n",
    "my_dict = {\"name\": \"Alice\", \"age\": 30}\n",
    "key_to_find = \"age\"\n",
    "\n",
    "if search_dictionary(my_dict, key_to_find):\n",
    "  print(f\"The key '{key_to_find}' exists in the dictionary\")\n",
    "else:\n",
    "  print(f\"The key '{key_to_find}' does not exist in the dictionary\")\n"
   ]
  },
  {
   "cell_type": "code",
   "execution_count": 16,
   "id": "32dc072a-b041-47a4-8182-b7342c96370f",
   "metadata": {},
   "outputs": [
    {
     "name": "stdout",
     "output_type": "stream",
     "text": [
      "25 degrees Celsius is equal to 77.00 degrees Fahrenheit\n"
     ]
    }
   ],
   "source": [
    "def celsius_to_fahrenheit(celsius):\n",
    " \n",
    "\n",
    "  return (celsius * 9/5) + 32\n",
    "\n",
    "# Example usage\n",
    "celsius_temp = 25\n",
    "fahrenheit_temp = celsius_to_fahrenheit(celsius_temp)\n",
    "\n",
    "print(f\"{celsius_temp} degrees Celsius is equal to {fahrenheit_temp:.2f} degrees Fahrenheit\")\n"
   ]
  },
  {
   "cell_type": "code",
   "execution_count": 15,
   "id": "034f803c-53ea-432e-b9e2-9c61826cbd8d",
   "metadata": {},
   "outputs": [
    {
     "name": "stdout",
     "output_type": "stream",
     "text": [
      "The number of words in the sentence is: 8\n"
     ]
    }
   ],
   "source": [
    "def word_count(sentence):\n",
    "  \n",
    "  # Split the sentence into words using whitespace as delimiter\n",
    "  words = sentence.split()\n",
    "  return len(words)\n",
    "\n",
    "# Example usage\n",
    "sentence = \"This is a sample sentence to count words.\"\n",
    "word_count = word_count(sentence)\n",
    "\n",
    "print(f\"The number of words in the sentence is: {word_count}\")\n"
   ]
  },
  {
   "cell_type": "code",
   "execution_count": 17,
   "id": "ae7fc45f-85d2-4d0d-b8e6-79218f052c3c",
   "metadata": {},
   "outputs": [
    {
     "name": "stdout",
     "output_type": "stream",
     "text": [
      "Unique elements: {1, 2, 3, 4, 5}\n",
      "Unique elements: {'e', 'o', 'l', '!', 'w', 'r', 'd', ' ', ',', 'H'}\n"
     ]
    }
   ],
   "source": [
    "def unique_elements(data):\n",
    "\n",
    "  if isinstance(data, str):\n",
    "    # Convert string to a set to remove duplicates by default\n",
    "    unique_data = set(data)\n",
    "  else:\n",
    "    # Use set comprehension for lists to create a set of unique elements\n",
    "    unique_data = {item for item in data}\n",
    "  print(\"Unique elements:\", unique_data)\n",
    "\n",
    "# Example usage with list\n",
    "numbers = [1, 2, 2, 3, 4, 5, 1]\n",
    "unique_elements(numbers)\n",
    "\n",
    "# Example usage with string\n",
    "text = \"Hello, world! Hello\"\n",
    "unique_elements(text)\n"
   ]
  },
  {
   "cell_type": "code",
   "execution_count": 18,
   "id": "4c463aaa-f0d1-4502-bdda-32537b2782d3",
   "metadata": {},
   "outputs": [
    {
     "name": "stdout",
     "output_type": "stream",
     "text": [
      "The square of 1 is: 1\n",
      "The square of 2 is: 4\n",
      "The square of 3 is: 9\n",
      "The square of 4 is: 16\n",
      "The square of 5 is: 25\n",
      "The square of 6 is: 36\n",
      "The square of 7 is: 49\n",
      "The square of 8 is: 64\n",
      "The square of 9 is: 81\n",
      "The square of 10 is: 100\n"
     ]
    }
   ],
   "source": [
    "def square_of_numbers(start, end):\n",
    " \n",
    "\n",
    "  for num in range(start, end + 1):\n",
    "    square = num * num\n",
    "    print(f\"The square of {num} is: {square}\")\n",
    "\n",
    "# Example usage\n",
    "square_of_numbers(1, 10)\n",
    "\n"
   ]
  },
  {
   "cell_type": "code",
   "execution_count": 19,
   "id": "14959876-a0c8-4051-b751-6a0c57997e16",
   "metadata": {},
   "outputs": [
    {
     "name": "stdout",
     "output_type": "stream",
     "text": [
      "The number of vowels in the text is: 11\n"
     ]
    }
   ],
   "source": [
    "def vowel_count(text):\n",
    "  \n",
    "\n",
    "  vowels = \"aeiouAEIOU\"\n",
    "  vowel_count = 0\n",
    "  for char in text:\n",
    "    if char in vowels:\n",
    "      vowel_count += 1\n",
    "  return vowel_count\n",
    "\n",
    "# Example usage\n",
    "text = \"This is a sample text to count vowels.\"\n",
    "num_vowels = vowel_count(text)\n",
    "\n",
    "print(f\"The number of vowels in the text is: {num_vowels}\")\n"
   ]
  },
  {
   "cell_type": "code",
   "execution_count": 20,
   "id": "eefedd5f-be38-465e-bdbf-c0a5db1f125a",
   "metadata": {},
   "outputs": [
    {
     "name": "stdout",
     "output_type": "stream",
     "text": [
      "The merged list is: [1, 3, 5, 2, 4, 6]\n"
     ]
    }
   ],
   "source": [
    "def merge_lists(list1, list2):\n",
    " \n",
    "\n",
    "  return list1 + list2\n",
    "\n",
    "# Example usage\n",
    "list_a = [1, 3, 5]\n",
    "list_b = [2, 4, 6]\n",
    "merged_list = merge_lists(list_a, list_b)\n",
    "\n",
    "print(f\"The merged list is: {merged_list}\")\n"
   ]
  },
  {
   "cell_type": "code",
   "execution_count": 22,
   "id": "f91b28eb-942b-4e31-8f50-5616f341d233",
   "metadata": {},
   "outputs": [
    {
     "name": "stdin",
     "output_type": "stream",
     "text": [
      "Enter an operation (+, -, *, /):  -\n",
      "Enter first number:  6\n",
      "Enter second number:  8\n"
     ]
    },
    {
     "name": "stdout",
     "output_type": "stream",
     "text": [
      "6.0 - 8.0 = -2.0\n"
     ]
    },
    {
     "name": "stdin",
     "output_type": "stream",
     "text": [
      "Do you want to perform another calculation? (y/n):  n\n"
     ]
    }
   ],
   "source": [
    "def simple_calculator():\n",
    "  \"\"\"Creates a simple calculator that performs addition, subtraction, multiplication, and division.\"\"\"\n",
    "\n",
    "  while True:\n",
    "    # Get user input for operation and numbers\n",
    "    try:\n",
    "      operation = input(\"Enter an operation (+, -, *, /): \")\n",
    "      num1 = float(input(\"Enter first number: \"))\n",
    "      num2 = float(input(\"Enter second number: \"))\n",
    "    except ValueError:\n",
    "      print(\"Invalid input. Please enter numbers only.\")\n",
    "      continue\n",
    "\n",
    "    # Perform calculation based on the operation\n",
    "    if operation == \"+\":\n",
    "      result = num1 + num2\n",
    "      print(f\"{num1} + {num2} = {result}\")\n",
    "    elif operation == \"-\":\n",
    "      result = num1 - num2\n",
    "      print(f\"{num1} - {num2} = {result}\")\n",
    "    elif operation == \"*\":\n",
    "      result = num1 * num2\n",
    "      print(f\"{num1} * {num2} = {result}\")\n",
    "    elif operation == \"/\":\n",
    "      if num2 == 0:\n",
    "        print(\"Error: Division by zero\")\n",
    "      else:\n",
    "        result = num1 / num2\n",
    "        print(f\"{num1} / {num2} = {result}\")\n",
    "    else:\n",
    "      print(\"Invalid operation. Please use +, -, *, or /.\")\n",
    "\n",
    "    # Ask user if they want to continue\n",
    "    user_choice = input(\"Do you want to perform another calculation? (y/n): \")\n",
    "    if user_choice.lower() != \"y\":\n",
    "      break\n",
    "\n",
    "simple_calculator()\n"
   ]
  },
  {
   "cell_type": "markdown",
   "id": "1279315c-daee-4e9c-be67-2dac2ae13b9c",
   "metadata": {},
   "source": []
  }
 ],
 "metadata": {
  "kernelspec": {
   "display_name": "Python 3 (ipykernel)",
   "language": "python",
   "name": "python3"
  },
  "language_info": {
   "codemirror_mode": {
    "name": "ipython",
    "version": 3
   },
   "file_extension": ".py",
   "mimetype": "text/x-python",
   "name": "python",
   "nbconvert_exporter": "python",
   "pygments_lexer": "ipython3",
   "version": "3.11.7"
  }
 },
 "nbformat": 4,
 "nbformat_minor": 5
}
